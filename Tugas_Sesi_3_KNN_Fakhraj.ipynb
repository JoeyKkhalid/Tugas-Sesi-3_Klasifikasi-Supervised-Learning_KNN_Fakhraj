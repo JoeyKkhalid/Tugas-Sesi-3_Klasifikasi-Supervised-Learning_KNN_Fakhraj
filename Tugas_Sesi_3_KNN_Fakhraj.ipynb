{
  "nbformat": 4,
  "nbformat_minor": 0,
  "metadata": {
    "colab": {
      "provenance": []
    },
    "kernelspec": {
      "name": "python3",
      "display_name": "Python 3"
    },
    "language_info": {
      "name": "python"
    }
  },
  "cells": [
    {
      "cell_type": "markdown",
      "source": [
        "**Nama  :Muhammad Fakhraj Jaelani**<br>\n",
        "**Nim   :20220040203**<br>\n",
        "**Kelas : TI 22 H**<br>"
      ],
      "metadata": {
        "id": "NTIaihzqlLx7"
      }
    },
    {
      "cell_type": "code",
      "execution_count": null,
      "metadata": {
        "colab": {
          "base_uri": "https://localhost:8080/"
        },
        "id": "pA3bMXydlINB",
        "outputId": "548ae52a-82e3-47be-acf4-5da20633c24d"
      },
      "outputs": [
        {
          "output_type": "stream",
          "name": "stdout",
          "text": [
            "Akurasi 0.0\n",
            "Menampilkan Hasil Prediksi\n",
            "Data test 1: Prediction Terima\n"
          ]
        }
      ],
      "source": [
        "from sklearn.neighbors import KNeighborsClassifier\n",
        "# data\n",
        "X_train = [[40,5,60], [50,8,40], [50,7,30], [70,4,60], [80,4,80], [60,6,60]]\n",
        "y_train = ['Tolak','Terima','Tolak','Terima','Terima','Terima']\n",
        "\n",
        "# Inisialisasi model knn dengan jumlah tentangg/k = 3\n",
        "knn = KNeighborsClassifier(n_neighbors=5)\n",
        "\n",
        "# Melatih Model Dengan Data Traning\n",
        "knn.fit(X_train, y_train)\n",
        "\n",
        "# Data Test\n",
        "X_test = [[50,3,40]]\n",
        "y_test = ['Tolak'] # lebel yg seharusnya di dapatkan dalam model prediksi\n",
        "\n",
        "# Melakukan Prediksi dengan model yg sudah di latih\n",
        "pred = knn.predict(X_test)\n",
        "\n",
        "# melakukan Evaluasi Model\n",
        "accuracy = knn.score(X_test, y_test)\n",
        "print(\"Akurasi\", accuracy)\n",
        "\n",
        "print(\"Menampilkan Hasil Prediksi\")\n",
        "for i, pred in enumerate(pred):\n",
        "  print(f\"Data test {i+1}: Prediction {pred}\")"
      ]
    }
  ]
}